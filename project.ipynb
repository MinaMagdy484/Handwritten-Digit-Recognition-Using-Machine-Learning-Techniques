{
 "cells": [
  {
   "cell_type": "code",
   "execution_count": 2,
   "metadata": {},
   "outputs": [
    {
     "name": "stdout",
     "output_type": "stream",
     "text": [
      "          0         1         2         3         4         5         6  \\\n",
      "0  0.627451  0.658824  0.654902  0.627451  0.635294  0.647059  0.639216   \n",
      "1  0.549020  0.470588  0.243137  0.101961  0.211765  0.415686  0.533333   \n",
      "2  0.686275  0.682353  0.674510  0.674510  0.674510  0.674510  0.682353   \n",
      "3  0.741176  0.717647  0.741176  0.764706  0.725490  0.658824  0.650980   \n",
      "4  0.435294  0.262745  0.113725  0.286275  0.443137  0.454902  0.454902   \n",
      "\n",
      "          7         8         9  ...       775       776       777       778  \\\n",
      "0  0.635294  0.647059  0.654902  ...  0.647059  0.615686  0.607843  0.658824   \n",
      "1  0.600000  0.709804  0.678431  ...  0.678431  0.690196  0.698039  0.682353   \n",
      "2  0.682353  0.678431  0.678431  ...  0.486275  0.419608  0.517647  0.666667   \n",
      "3  0.682353  0.662745  0.690196  ...  0.498039  0.549020  0.623529  0.709804   \n",
      "4  0.450980  0.454902  0.443137  ...  0.458824  0.462745  0.466667  0.470588   \n",
      "\n",
      "        779       780       781       782       783  labels  \n",
      "0  0.686275  0.662745  0.639216  0.603922  0.635294       0  \n",
      "1  0.670588  0.678431  0.678431  0.658824  0.674510       0  \n",
      "2  0.670588  0.474510  0.486275  0.584314  0.615686       0  \n",
      "3  0.737255  0.627451  0.388235  0.129412  0.000000       0  \n",
      "4  0.470588  0.466667  0.458824  0.466667  0.478431       0  \n",
      "\n",
      "[5 rows x 785 columns]\n",
      "DataFrame length: 10000\n",
      "labels\n",
      "0    1000\n",
      "1    1000\n",
      "2    1000\n",
      "3    1000\n",
      "4    1000\n",
      "5    1000\n",
      "6    1000\n",
      "7    1000\n",
      "8    1000\n",
      "9    1000\n",
      "Name: count, dtype: int64\n"
     ]
    }
   ],
   "source": [
    "import os\n",
    "import numpy as np\n",
    "import pandas as pd\n",
    "from PIL import Image\n",
    "\n",
    "sdir = r'E:\\FCI\\4th year\\1\\Machine Learning\\Machine Learning\\Final Project\\Handwritten-Digit-Recognition-Using-Machine-Learning-Techniques\\10000\\10000'\n",
    "\n",
    "filepaths = []\n",
    "labels = []\n",
    "data = []  # To store the processed 784-dimensional image vectors\n",
    "\n",
    "classlist = os.listdir(sdir)\n",
    "class_index = 0\n",
    "\n",
    "for klass in classlist:\n",
    "    classpath = os.path.join(sdir, klass)\n",
    "    flist = os.listdir(classpath)\n",
    "    \n",
    "    for f in flist:\n",
    "        fpath = os.path.join(classpath, f)\n",
    "        filepaths.append(fpath)\n",
    "        labels.append(class_index)\n",
    "        \n",
    "        # Process the image\n",
    "        with Image.open(fpath) as img:\n",
    "            img = img.convert('L')  # Convert to grayscale\n",
    "            img_resized = img.resize((28, 28))  # Ensure size is 28x28\n",
    "            img_array = np.array(img_resized).flatten()  # Flatten to 1D vector\n",
    "            img_array = img_array / 255.0  # Normalize to [0, 1]\n",
    "            data.append(img_array)  # Append the processed data\n",
    "    \n",
    "    class_index += 1\n",
    "\n",
    "# Create a DataFrame\n",
    "data_df = pd.DataFrame(data)  # Image data as 784 columns\n",
    "data_df['labels'] = labels  # Add labels\n",
    "\n",
    "print(data_df.head())  # Print the first few rows\n",
    "print('DataFrame length:', len(data_df))\n",
    "\n",
    "# Check the class balance\n",
    "balance = data_df['labels'].value_counts()\n",
    "print(balance)"
   ]
  },
  {
   "cell_type": "code",
   "execution_count": 5,
   "metadata": {},
   "outputs": [
    {
     "data": {
      "text/plain": [
       "index\n",
       "0    1000\n",
       "1    1000\n",
       "2    1000\n",
       "3    1000\n",
       "4    1000\n",
       "5    1000\n",
       "6    1000\n",
       "7    1000\n",
       "8    1000\n",
       "9    1000\n",
       "Name: count, dtype: int64"
      ]
     },
     "execution_count": 5,
     "metadata": {},
     "output_type": "execute_result"
    }
   ],
   "source": [
    "data_df['index'].value_counts()\n"
   ]
  },
  {
   "cell_type": "code",
   "execution_count": 10,
   "metadata": {},
   "outputs": [
    {
     "name": "stdout",
     "output_type": "stream",
     "text": [
      "0         float64\n",
      "1         float64\n",
      "2         float64\n",
      "3         float64\n",
      "4         float64\n",
      "           ...   \n",
      "781       float64\n",
      "782       float64\n",
      "783       float64\n",
      "labels     object\n",
      "index       int64\n",
      "Length: 786, dtype: object\n"
     ]
    }
   ],
   "source": [
    "print(data_df.dtypes)\n"
   ]
  },
  {
   "cell_type": "code",
   "execution_count": null,
   "metadata": {},
   "outputs": [],
   "source": []
  },
  {
   "cell_type": "code",
   "execution_count": 12,
   "metadata": {},
   "outputs": [
    {
     "name": "stdout",
     "output_type": "stream",
     "text": [
      "Dataset saved as 'mnist_dataset.csv'\n"
     ]
    }
   ],
   "source": [
    "data_df.to_csv('mnist_dataset.csv')\n",
    "\n",
    "print(\"Dataset saved as 'mnist_dataset.csv'\")"
   ]
  }
 ],
 "metadata": {
  "kernelspec": {
   "display_name": "Python 3",
   "language": "python",
   "name": "python3"
  },
  "language_info": {
   "codemirror_mode": {
    "name": "ipython",
    "version": 3
   },
   "file_extension": ".py",
   "mimetype": "text/x-python",
   "name": "python",
   "nbconvert_exporter": "python",
   "pygments_lexer": "ipython3",
   "version": "3.10.7"
  }
 },
 "nbformat": 4,
 "nbformat_minor": 2
}
