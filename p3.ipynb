{
 "cells": [
  {
   "cell_type": "code",
   "execution_count": 27,
   "metadata": {},
   "outputs": [],
   "source": [
    "import os\n",
    "import numpy as np\n",
    "import pandas as pd\n",
    "from PIL import Image\n",
    "from sklearn.model_selection import train_test_split, KFold, GridSearchCV\n",
    "from sklearn.metrics import (\n",
    "    accuracy_score, precision_score, recall_score, f1_score, confusion_matrix, mean_squared_error, r2_score\n",
    ")\n",
    "from sklearn.linear_model import LogisticRegression, LinearRegression\n",
    "from sklearn.naive_bayes import GaussianNB\n",
    "from sklearn.preprocessing import OneHotEncoder\n",
    "import joblib"
   ]
  },
  {
   "cell_type": "code",
   "execution_count": 30,
   "metadata": {},
   "outputs": [],
   "source": [
    "base_dir = r'D:\\Fourth Year\\First Term\\Machine\\Lectures\\project\\10000'\n",
    "file_paths = []\n",
    "class_labels = []\n",
    "image_data = []"
   ]
  },
  {
   "cell_type": "code",
   "execution_count": 31,
   "metadata": {},
   "outputs": [],
   "source": [
    "categories = os.listdir(base_dir)\n",
    "class_id = 0\n",
    "for category in categories:\n",
    "    category_path = os.path.join(base_dir, category)\n",
    "    image_files = os.listdir(category_path)\n",
    "    for image_file in image_files:\n",
    "        image_path = os.path.join(category_path, image_file)\n",
    "        file_paths.append(image_path)\n",
    "        class_labels.append(class_id)\n",
    "        with Image.open(image_path) as img:\n",
    "            img = img.convert('L')  \n",
    "            resized_img = img.resize((28, 28))  \n",
    "            img_array = np.array(resized_img).flatten() / 255.0  \n",
    "            image_data.append(img_array)\n",
    "    class_id += 1\n"
   ]
  },
  {
   "cell_type": "code",
   "execution_count": 32,
   "metadata": {},
   "outputs": [
    {
     "name": "stderr",
     "output_type": "stream",
     "text": [
      "d:\\Anacoda\\Lib\\site-packages\\sklearn\\preprocessing\\_encoders.py:972: FutureWarning: `sparse` was renamed to `sparse_output` in version 1.2 and will be removed in 1.4. `sparse_output` is ignored unless you leave `sparse` to its default value.\n",
      "  warnings.warn(\n"
     ]
    }
   ],
   "source": [
    "class_labels = np.array(class_labels).reshape(-1, 1)\n",
    "label_encoder = OneHotEncoder(sparse=False)\n",
    "one_hot_encoded_labels = label_encoder.fit_transform(class_labels)"
   ]
  },
  {
   "cell_type": "code",
   "execution_count": 33,
   "metadata": {},
   "outputs": [],
   "source": [
    "data_frame = pd.DataFrame(image_data)  \n",
    "label_frame = pd.DataFrame(one_hot_encoded_labels) \n",
    "data_frame = pd.concat([data_frame, label_frame], axis=1)"
   ]
  },
  {
   "cell_type": "code",
   "execution_count": 34,
   "metadata": {},
   "outputs": [],
   "source": [
    "X_features = data_frame.iloc[:, :-len(categories)]\n",
    "y_labels = data_frame.iloc[:, -len(categories):]"
   ]
  },
  {
   "cell_type": "code",
   "execution_count": 35,
   "metadata": {},
   "outputs": [],
   "source": [
    "X_train, X_test, y_train, y_test = train_test_split(X_features, y_labels, test_size=0.2, random_state=42)\n"
   ]
  },
  {
   "cell_type": "code",
   "execution_count": 36,
   "metadata": {},
   "outputs": [],
   "source": [
    "k_folds = KFold(n_splits=5, shuffle=True, random_state=42)\n"
   ]
  },
  {
   "cell_type": "code",
   "execution_count": 37,
   "metadata": {},
   "outputs": [],
   "source": [
    "def evaluate_model(model, X_train, y_train, X_test, y_test):\n",
    "    model.fit(X_train, y_train.idxmax(axis=1))\n",
    "    predictions = model.predict(X_test)\n",
    "\n",
    "    if isinstance(model, LinearRegression):\n",
    "        mse = mean_squared_error(y_test.idxmax(axis=1), predictions)\n",
    "        r2 = r2_score(y_test.idxmax(axis=1), predictions)\n",
    "        print(f\"Mean Squared Error: {mse:.4f}\")\n",
    "        print(f\"R-squared: {r2:.4f}\")\n",
    "    else:\n",
    "        accuracy = accuracy_score(y_test.idxmax(axis=1), predictions)\n",
    "        precision = precision_score(y_test.idxmax(axis=1), predictions, average='weighted', zero_division=0)\n",
    "        recall = recall_score(y_test.idxmax(axis=1), predictions, average='weighted', zero_division=0)\n",
    "        f1 = f1_score(y_test.idxmax(axis=1), predictions, average='weighted', zero_division=0)\n",
    "        conf_matrix = confusion_matrix(y_test.idxmax(axis=1), predictions)\n",
    "\n",
    "        print(f\"Accuracy: {accuracy:.4f}\")\n",
    "        print(f\"Precision: {precision:.4f}\")\n",
    "        print(f\"Recall: {recall:.4f}\")\n",
    "        print(f\"F1-Score: {f1:.4f}\")\n",
    "        print(f\"Confusion Matrix:\\n{conf_matrix}\")\n",
    "\n",
    "    print('*_' * 50)"
   ]
  },
  {
   "cell_type": "code",
   "execution_count": 38,
   "metadata": {},
   "outputs": [],
   "source": [
    "model_dict = {\n",
    "    \"Logistic Regression\": LogisticRegression(max_iter=100, solver='lbfgs', multi_class='multinomial', penalty='l2'),\n",
    "    \"Naive Bayes\": GaussianNB(),\n",
    "    \"Linear Regression\": LinearRegression()\n",
    "}"
   ]
  },
  {
   "cell_type": "code",
   "execution_count": 39,
   "metadata": {},
   "outputs": [],
   "source": [
    "hyperparameter_grid = {\n",
    "    'C': [0.1, 1, 10],\n",
    "    'solver': ['lbfgs'],\n",
    "    'multi_class': ['multinomial'],\n",
    "    'max_iter': [200]\n",
    "}"
   ]
  },
  {
   "cell_type": "code",
   "execution_count": 18,
   "metadata": {},
   "outputs": [],
   "source": [
    "grid_search = GridSearchCV(\n",
    "        LogisticRegression(),\n",
    "        log_reg_params,\n",
    "        cv=5,\n",
    "        scoring='accuracy',\n",
    "        verbose=1,\n",
    "        n_jobs=-1\n",
    "    )"
   ]
  },
  {
   "cell_type": "code",
   "execution_count": 40,
   "metadata": {},
   "outputs": [
    {
     "name": "stdout",
     "output_type": "stream",
     "text": [
      "Fitting 5 folds for each of 3 candidates, totalling 15 fits\n",
      "Best Parameters for Logistic Regression: {'C': 0.1, 'max_iter': 200, 'multi_class': 'multinomial', 'solver': 'lbfgs'}\n"
     ]
    },
    {
     "name": "stderr",
     "output_type": "stream",
     "text": [
      "d:\\Anacoda\\Lib\\site-packages\\sklearn\\linear_model\\_logistic.py:460: ConvergenceWarning: lbfgs failed to converge (status=1):\n",
      "STOP: TOTAL NO. of ITERATIONS REACHED LIMIT.\n",
      "\n",
      "Increase the number of iterations (max_iter) or scale the data as shown in:\n",
      "    https://scikit-learn.org/stable/modules/preprocessing.html\n",
      "Please also refer to the documentation for alternative solver options:\n",
      "    https://scikit-learn.org/stable/modules/linear_model.html#logistic-regression\n",
      "  n_iter_i = _check_optimize_result(\n"
     ]
    }
   ],
   "source": [
    "logistic_reg = LogisticRegression()\n",
    "grid_search = GridSearchCV(logistic_reg, hyperparameter_grid, cv=5, scoring='accuracy', verbose=1, n_jobs=-1)\n",
    "grid_search.fit(X_train, y_train.idxmax(axis=1))\n",
    "\n",
    "print(\"Best Parameters for Logistic Regression:\", grid_search.best_params_)\n",
    "optimized_logistic_model = grid_search.best_estimator_\n"
   ]
  },
  {
   "cell_type": "code",
   "execution_count": 41,
   "metadata": {},
   "outputs": [
    {
     "name": "stdout",
     "output_type": "stream",
     "text": [
      "Evaluating Logistic Regression...\n"
     ]
    },
    {
     "name": "stderr",
     "output_type": "stream",
     "text": [
      "d:\\Anacoda\\Lib\\site-packages\\sklearn\\linear_model\\_logistic.py:460: ConvergenceWarning: lbfgs failed to converge (status=1):\n",
      "STOP: TOTAL NO. of ITERATIONS REACHED LIMIT.\n",
      "\n",
      "Increase the number of iterations (max_iter) or scale the data as shown in:\n",
      "    https://scikit-learn.org/stable/modules/preprocessing.html\n",
      "Please also refer to the documentation for alternative solver options:\n",
      "    https://scikit-learn.org/stable/modules/linear_model.html#logistic-regression\n",
      "  n_iter_i = _check_optimize_result(\n"
     ]
    },
    {
     "name": "stdout",
     "output_type": "stream",
     "text": [
      "Accuracy: 0.7575\n",
      "Precision: 0.7577\n",
      "Recall: 0.7575\n",
      "F1-Score: 0.7569\n",
      "Confusion Matrix:\n",
      "[[168   1   4   4   9   9   3   1   2   7]\n",
      " [  1 165   7   3   7   3   2   8   5   1]\n",
      " [  1   5 156   6   3   8   1   6   3   3]\n",
      " [  4   2   6 161   1   3   2   9   5   8]\n",
      " [  4   5   5   1 152   3   3   5  18  13]\n",
      " [  9   6   4   6   2 131  11   5   9   3]\n",
      " [  3   6   1   0   3  15 181   0   2   0]\n",
      " [  3   9   8   6   3   1   1 142   4  27]\n",
      " [  6   3   5   8  17  16  12   9 130   6]\n",
      " [  7   3   5   5   7   2   0  12   5 129]]\n",
      "*_*_*_*_*_*_*_*_*_*_*_*_*_*_*_*_*_*_*_*_*_*_*_*_*_*_*_*_*_*_*_*_*_*_*_*_*_*_*_*_*_*_*_*_*_*_*_*_*_*_\n",
      "Saved Logistic Regression model to logistic_regression.pkl\n",
      "Evaluating Naive Bayes...\n",
      "Accuracy: 0.4995\n",
      "Precision: 0.5312\n",
      "Recall: 0.4995\n",
      "F1-Score: 0.5028\n",
      "Confusion Matrix:\n",
      "[[112  26   3  10  25  17   6   1   3   5]\n",
      " [  4 136   4  13   9   4   3  15  12   2]\n",
      " [  7  38  91  17   8   1   2   5  22   1]\n",
      " [ 10  23   7 135   6   1   0   8   6   5]\n",
      " [ 27  33   9   5  84   2   5   9  28   7]\n",
      " [ 16  30   3   4  12  79  18   2  18   4]\n",
      " [ 12  35   0   2   9  23 121   2   7   0]\n",
      " [  9  31   8  15  15   4   1  86  16  19]\n",
      " [ 11  34   8  20  20  10  10   7  87   5]\n",
      " [ 12  26   3  16  17   2   0  17  14  68]]\n",
      "*_*_*_*_*_*_*_*_*_*_*_*_*_*_*_*_*_*_*_*_*_*_*_*_*_*_*_*_*_*_*_*_*_*_*_*_*_*_*_*_*_*_*_*_*_*_*_*_*_*_\n",
      "Saved Naive Bayes model to naive_bayes.pkl\n",
      "Evaluating Linear Regression...\n",
      "Mean Squared Error: 6.1759\n",
      "R-squared: 0.2434\n",
      "*_*_*_*_*_*_*_*_*_*_*_*_*_*_*_*_*_*_*_*_*_*_*_*_*_*_*_*_*_*_*_*_*_*_*_*_*_*_*_*_*_*_*_*_*_*_*_*_*_*_\n",
      "Saved Linear Regression model to linear_regression.pkl\n"
     ]
    }
   ],
   "source": [
    "for model_name, model_instance in model_dict.items():\n",
    "    print(f\"Evaluating {model_name}...\")\n",
    "    current_model = optimized_logistic_model if model_name == \"Logistic Regression\" else model_instance\n",
    "\n",
    "    evaluate_model(current_model, X_train, y_train, X_test, y_test)\n",
    "\n",
    "    model_file = f\"{model_name.replace(' ', '_').lower()}.pkl\"\n",
    "    joblib.dump(current_model, model_file)\n",
    "    print(f\"Saved {model_name} model to {model_file}\")"
   ]
  },
  {
   "cell_type": "code",
   "execution_count": 42,
   "metadata": {},
   "outputs": [],
   "source": [
    "def cross_validate_model(model, X, y):\n",
    "    accuracy_list, precision_list, recall_list, f1_list = [], [], [], []\n",
    "\n",
    "    for train_idx, test_idx in k_folds.split(X):\n",
    "        X_train_fold, X_test_fold = X.iloc[train_idx], X.iloc[test_idx]\n",
    "        y_train_fold, y_test_fold = y.iloc[train_idx], y.iloc[test_idx]\n",
    "\n",
    "        model.fit(X_train_fold, y_train_fold.idxmax(axis=1))\n",
    "\n",
    "        if isinstance(model, LinearRegression):\n",
    "            predictions = np.round(model.predict(X_test_fold)).astype(int)\n",
    "        else:\n",
    "            predictions = model.predict(X_test_fold)\n",
    "\n",
    "        predictions = np.clip(predictions, 0, y_train_fold.shape[1] - 1)\n",
    "        accuracy_list.append(accuracy_score(y_test_fold.idxmax(axis=1), predictions))\n",
    "        precision_list.append(precision_score(y_test_fold.idxmax(axis=1), predictions, average='weighted', zero_division=0))\n",
    "        recall_list.append(recall_score(y_test_fold.idxmax(axis=1), predictions, average='weighted', zero_division=0))\n",
    "        f1_list.append(f1_score(y_test_fold.idxmax(axis=1), predictions, average='weighted', zero_division=0))\n",
    "\n",
    "    print(f\"Mean Accuracy: {np.mean(accuracy_list):.4f}, Std: {np.std(accuracy_list):.4f}\")\n",
    "    print(f\"Mean Precision: {np.mean(precision_list):.4f}, Std: {np.std(precision_list):.4f}\")\n",
    "    print(f\"Mean Recall: {np.mean(recall_list):.4f}, Std: {np.std(recall_list):.4f}\")\n",
    "    print(f\"Mean F1-Score: {np.mean(f1_list):.4f}, Std: {np.std(f1_list):.4f}\")\n",
    "    print(\"-*-\" * 50)"
   ]
  },
  {
   "cell_type": "code",
   "execution_count": 43,
   "metadata": {},
   "outputs": [
    {
     "name": "stdout",
     "output_type": "stream",
     "text": [
      "Cross-validation Results:\n",
      "Cross-validating Logistic Regression...\n"
     ]
    },
    {
     "name": "stderr",
     "output_type": "stream",
     "text": [
      "d:\\Anacoda\\Lib\\site-packages\\sklearn\\linear_model\\_logistic.py:460: ConvergenceWarning: lbfgs failed to converge (status=1):\n",
      "STOP: TOTAL NO. of ITERATIONS REACHED LIMIT.\n",
      "\n",
      "Increase the number of iterations (max_iter) or scale the data as shown in:\n",
      "    https://scikit-learn.org/stable/modules/preprocessing.html\n",
      "Please also refer to the documentation for alternative solver options:\n",
      "    https://scikit-learn.org/stable/modules/linear_model.html#logistic-regression\n",
      "  n_iter_i = _check_optimize_result(\n",
      "d:\\Anacoda\\Lib\\site-packages\\sklearn\\linear_model\\_logistic.py:460: ConvergenceWarning: lbfgs failed to converge (status=1):\n",
      "STOP: TOTAL NO. of ITERATIONS REACHED LIMIT.\n",
      "\n",
      "Increase the number of iterations (max_iter) or scale the data as shown in:\n",
      "    https://scikit-learn.org/stable/modules/preprocessing.html\n",
      "Please also refer to the documentation for alternative solver options:\n",
      "    https://scikit-learn.org/stable/modules/linear_model.html#logistic-regression\n",
      "  n_iter_i = _check_optimize_result(\n",
      "d:\\Anacoda\\Lib\\site-packages\\sklearn\\linear_model\\_logistic.py:460: ConvergenceWarning: lbfgs failed to converge (status=1):\n",
      "STOP: TOTAL NO. of ITERATIONS REACHED LIMIT.\n",
      "\n",
      "Increase the number of iterations (max_iter) or scale the data as shown in:\n",
      "    https://scikit-learn.org/stable/modules/preprocessing.html\n",
      "Please also refer to the documentation for alternative solver options:\n",
      "    https://scikit-learn.org/stable/modules/linear_model.html#logistic-regression\n",
      "  n_iter_i = _check_optimize_result(\n",
      "d:\\Anacoda\\Lib\\site-packages\\sklearn\\linear_model\\_logistic.py:460: ConvergenceWarning: lbfgs failed to converge (status=1):\n",
      "STOP: TOTAL NO. of ITERATIONS REACHED LIMIT.\n",
      "\n",
      "Increase the number of iterations (max_iter) or scale the data as shown in:\n",
      "    https://scikit-learn.org/stable/modules/preprocessing.html\n",
      "Please also refer to the documentation for alternative solver options:\n",
      "    https://scikit-learn.org/stable/modules/linear_model.html#logistic-regression\n",
      "  n_iter_i = _check_optimize_result(\n",
      "d:\\Anacoda\\Lib\\site-packages\\sklearn\\linear_model\\_logistic.py:460: ConvergenceWarning: lbfgs failed to converge (status=1):\n",
      "STOP: TOTAL NO. of ITERATIONS REACHED LIMIT.\n",
      "\n",
      "Increase the number of iterations (max_iter) or scale the data as shown in:\n",
      "    https://scikit-learn.org/stable/modules/preprocessing.html\n",
      "Please also refer to the documentation for alternative solver options:\n",
      "    https://scikit-learn.org/stable/modules/linear_model.html#logistic-regression\n",
      "  n_iter_i = _check_optimize_result(\n"
     ]
    },
    {
     "name": "stdout",
     "output_type": "stream",
     "text": [
      "Mean Accuracy: 0.7613, Std: 0.0057\n",
      "Mean Precision: 0.7626, Std: 0.0051\n",
      "Mean Recall: 0.7613, Std: 0.0057\n",
      "Mean F1-Score: 0.7609, Std: 0.0056\n",
      "-*--*--*--*--*--*--*--*--*--*--*--*--*--*--*--*--*--*--*--*--*--*--*--*--*--*--*--*--*--*--*--*--*--*--*--*--*--*--*--*--*--*--*--*--*--*--*--*--*--*-\n",
      "Cross-validating Naive Bayes...\n",
      "Mean Accuracy: 0.5085, Std: 0.0098\n",
      "Mean Precision: 0.5434, Std: 0.0104\n",
      "Mean Recall: 0.5085, Std: 0.0098\n",
      "Mean F1-Score: 0.5113, Std: 0.0095\n",
      "-*--*--*--*--*--*--*--*--*--*--*--*--*--*--*--*--*--*--*--*--*--*--*--*--*--*--*--*--*--*--*--*--*--*--*--*--*--*--*--*--*--*--*--*--*--*--*--*--*--*-\n",
      "Cross-validating Linear Regression...\n",
      "Mean Accuracy: 0.1358, Std: 0.0063\n",
      "Mean Precision: 0.1911, Std: 0.0154\n",
      "Mean Recall: 0.1358, Std: 0.0063\n",
      "Mean F1-Score: 0.1253, Std: 0.0073\n",
      "-*--*--*--*--*--*--*--*--*--*--*--*--*--*--*--*--*--*--*--*--*--*--*--*--*--*--*--*--*--*--*--*--*--*--*--*--*--*--*--*--*--*--*--*--*--*--*--*--*--*-\n"
     ]
    }
   ],
   "source": [
    "print(\"Cross-validation Results:\")\n",
    "for model_name, model_instance in model_dict.items():\n",
    "    print(f\"Cross-validating {model_name}...\")\n",
    "    cross_validate_model(model_instance, X_features, y_labels)"
   ]
  },
  {
   "cell_type": "code",
   "execution_count": null,
   "metadata": {},
   "outputs": [],
   "source": []
  }
 ],
 "metadata": {
  "kernelspec": {
   "display_name": "Python (base)",
   "language": "python",
   "name": "base"
  },
  "language_info": {
   "codemirror_mode": {
    "name": "ipython",
    "version": 3
   },
   "file_extension": ".py",
   "mimetype": "text/x-python",
   "name": "python",
   "nbconvert_exporter": "python",
   "pygments_lexer": "ipython3",
   "version": "3.11.5"
  }
 },
 "nbformat": 4,
 "nbformat_minor": 2
}
