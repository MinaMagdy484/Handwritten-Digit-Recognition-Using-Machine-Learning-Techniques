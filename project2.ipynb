{
 "cells": [
  {
   "cell_type": "code",
   "execution_count": 1,
   "metadata": {},
   "outputs": [],
   "source": [
    "import os\n",
    "import numpy as np\n",
    "import pandas as pd\n",
    "from PIL import Image\n",
    "from sklearn.model_selection import train_test_split, KFold, GridSearchCV\n",
    "from sklearn.metrics import (\n",
    "    accuracy_score, precision_score, recall_score, f1_score, confusion_matrix, mean_squared_error, r2_score\n",
    ")\n",
    "from sklearn.linear_model import LogisticRegression, LinearRegression\n",
    "from sklearn.naive_bayes import GaussianNB\n",
    "from sklearn.preprocessing import OneHotEncoder  # Import OneHotEncoder\n",
    "import joblib  # Import for saving models"
   ]
  },
  {
   "cell_type": "code",
   "execution_count": 2,
   "metadata": {},
   "outputs": [],
   "source": [
    "sdir = r'D:\\Fourth Year\\First Term\\Machine\\Lectures\\project\\10000'\n",
    "filepaths = []\n",
    "labels = []\n",
    "data = []"
   ]
  },
  {
   "cell_type": "code",
   "execution_count": 3,
   "metadata": {},
   "outputs": [],
   "source": [
    "classlist = os.listdir(sdir)\n",
    "class_index = 0\n",
    "for klass in classlist:\n",
    "    classpath = os.path.join(sdir, klass)\n",
    "    flist = os.listdir(classpath)\n",
    "    for f in flist:\n",
    "        fpath = os.path.join(classpath, f)\n",
    "        filepaths.append(fpath)\n",
    "        labels.append(class_index)\n",
    "        with Image.open(fpath) as img:\n",
    "            img = img.convert('L')  # Convert to grayscale\n",
    "            img_resized = img.resize((28, 28))  # Ensure size is 28x28\n",
    "            img_array = np.array(img_resized).flatten()  # Flatten to 1D vector\n",
    "            img_array = img_array / 255.0  # Normalize to [0, 1]\n",
    "            data.append(img_array)  # Append the processed data\n",
    "    class_index += 1"
   ]
  },
  {
   "cell_type": "code",
   "execution_count": 4,
   "metadata": {},
   "outputs": [
    {
     "name": "stderr",
     "output_type": "stream",
     "text": [
      "d:\\Anacoda\\Lib\\site-packages\\sklearn\\preprocessing\\_encoders.py:972: FutureWarning: `sparse` was renamed to `sparse_output` in version 1.2 and will be removed in 1.4. `sparse_output` is ignored unless you leave `sparse` to its default value.\n",
      "  warnings.warn(\n"
     ]
    }
   ],
   "source": [
    "labels = np.array(labels).reshape(-1, 1)  # Convert labels to a column vector\n",
    "encoder = OneHotEncoder(sparse=False)  # Initialize the encoder\n",
    "one_hot_labels = encoder.fit_transform(labels)  # Apply one-hot encoding"
   ]
  },
  {
   "cell_type": "code",
   "execution_count": 5,
   "metadata": {},
   "outputs": [],
   "source": [
    "data_df = pd.DataFrame(data)  # Image data as 784 columns\n",
    "data_df = pd.concat([data_df, pd.DataFrame(one_hot_labels)], axis=1) "
   ]
  },
  {
   "cell_type": "code",
   "execution_count": 6,
   "metadata": {},
   "outputs": [],
   "source": [
    "X = data_df.iloc[:, :-len(classlist)]  # Features (exclude one-hot encoded labels)\n",
    "y = data_df.iloc[:, -len(classlist):] "
   ]
  },
  {
   "cell_type": "code",
   "execution_count": 7,
   "metadata": {},
   "outputs": [],
   "source": [
    "X_train, X_test, y_train, y_test = train_test_split(\n",
    "    X, y, test_size=0.2, random_state=42\n",
    ")"
   ]
  },
  {
   "cell_type": "code",
   "execution_count": 8,
   "metadata": {},
   "outputs": [],
   "source": [
    "k = 5\n",
    "kf = KFold(n_splits=k, shuffle=True, random_state=42)"
   ]
  },
  {
   "cell_type": "code",
   "execution_count": 9,
   "metadata": {},
   "outputs": [],
   "source": [
    "def evaluate_model(model, X_train, y_train, X_test, y_test):\n",
    "    model.fit(X_train, y_train.idxmax(axis=1))  # Use index of the max value in one-hot encoded labels\n",
    "    predictions = model.predict(X_test)\n",
    "\n",
    "    if isinstance(model, LinearRegression):\n",
    "        mse = mean_squared_error(y_test.idxmax(axis=1), predictions)\n",
    "        r2 = r2_score(y_test.idxmax(axis=1), predictions)\n",
    "        print(f\"Mean Squared Error: {mse:.4f}\")\n",
    "        print(f\"R-squared: {r2:.4f}\")\n",
    "    else:\n",
    "        accuracy = accuracy_score(y_test.idxmax(axis=1), predictions)\n",
    "        precision = precision_score(y_test.idxmax(axis=1), predictions, average='weighted', zero_division=0)\n",
    "        recall = recall_score(y_test.idxmax(axis=1), predictions, average='weighted', zero_division=0)\n",
    "        f1 = f1_score(y_test.idxmax(axis=1), predictions, average='weighted', zero_division=0)\n",
    "        conf_matrix = confusion_matrix(y_test.idxmax(axis=1), predictions)\n",
    "\n",
    "        print(f\"Accuracy: {accuracy:.4f}\")\n",
    "        print(f\"Precision: {precision:.4f}\")\n",
    "        print(f\"Recall: {recall:.4f}\")\n",
    "        print(f\"F1-Score: {f1:.4f}\")\n",
    "        print(f\"Confusion Matrix:\\n{conf_matrix}\")\n",
    "\n",
    "    print('-' * 50)"
   ]
  },
  {
   "cell_type": "code",
   "execution_count": 10,
   "metadata": {},
   "outputs": [],
   "source": [
    "models = {\n",
    "    \"Logistic Regression\": LogisticRegression(max_iter=100, solver='lbfgs', multi_class='multinomial', penalty='l2'),\n",
    "    \"Naive Bayes\": GaussianNB(),\n",
    "    \"Linear Regression\": LinearRegression()\n",
    "}"
   ]
  },
  {
   "cell_type": "code",
   "execution_count": 11,
   "metadata": {},
   "outputs": [],
   "source": [
    "param_grid = {\n",
    "    'C': [0.1, 1, 10],  # Reduced regularization range for efficiency\n",
    "    'solver': ['lbfgs'],\n",
    "    'multi_class': ['multinomial'],  # Multi-class classification setup\n",
    "    'max_iter': [200],  # Limited to 200 iterations for efficiency\n",
    "}"
   ]
  },
  {
   "cell_type": "code",
   "execution_count": 12,
   "metadata": {},
   "outputs": [
    {
     "name": "stdout",
     "output_type": "stream",
     "text": [
      "Fitting 5 folds for each of 3 candidates, totalling 15 fits\n"
     ]
    },
    {
     "name": "stderr",
     "output_type": "stream",
     "text": [
      "d:\\Anacoda\\Lib\\site-packages\\sklearn\\linear_model\\_logistic.py:460: ConvergenceWarning: lbfgs failed to converge (status=1):\n",
      "STOP: TOTAL NO. of ITERATIONS REACHED LIMIT.\n",
      "\n",
      "Increase the number of iterations (max_iter) or scale the data as shown in:\n",
      "    https://scikit-learn.org/stable/modules/preprocessing.html\n",
      "Please also refer to the documentation for alternative solver options:\n",
      "    https://scikit-learn.org/stable/modules/linear_model.html#logistic-regression\n",
      "  n_iter_i = _check_optimize_result(\n"
     ]
    },
    {
     "data": {
      "text/html": [
       "<style>#sk-container-id-1 {color: black;}#sk-container-id-1 pre{padding: 0;}#sk-container-id-1 div.sk-toggleable {background-color: white;}#sk-container-id-1 label.sk-toggleable__label {cursor: pointer;display: block;width: 100%;margin-bottom: 0;padding: 0.3em;box-sizing: border-box;text-align: center;}#sk-container-id-1 label.sk-toggleable__label-arrow:before {content: \"▸\";float: left;margin-right: 0.25em;color: #696969;}#sk-container-id-1 label.sk-toggleable__label-arrow:hover:before {color: black;}#sk-container-id-1 div.sk-estimator:hover label.sk-toggleable__label-arrow:before {color: black;}#sk-container-id-1 div.sk-toggleable__content {max-height: 0;max-width: 0;overflow: hidden;text-align: left;background-color: #f0f8ff;}#sk-container-id-1 div.sk-toggleable__content pre {margin: 0.2em;color: black;border-radius: 0.25em;background-color: #f0f8ff;}#sk-container-id-1 input.sk-toggleable__control:checked~div.sk-toggleable__content {max-height: 200px;max-width: 100%;overflow: auto;}#sk-container-id-1 input.sk-toggleable__control:checked~label.sk-toggleable__label-arrow:before {content: \"▾\";}#sk-container-id-1 div.sk-estimator input.sk-toggleable__control:checked~label.sk-toggleable__label {background-color: #d4ebff;}#sk-container-id-1 div.sk-label input.sk-toggleable__control:checked~label.sk-toggleable__label {background-color: #d4ebff;}#sk-container-id-1 input.sk-hidden--visually {border: 0;clip: rect(1px 1px 1px 1px);clip: rect(1px, 1px, 1px, 1px);height: 1px;margin: -1px;overflow: hidden;padding: 0;position: absolute;width: 1px;}#sk-container-id-1 div.sk-estimator {font-family: monospace;background-color: #f0f8ff;border: 1px dotted black;border-radius: 0.25em;box-sizing: border-box;margin-bottom: 0.5em;}#sk-container-id-1 div.sk-estimator:hover {background-color: #d4ebff;}#sk-container-id-1 div.sk-parallel-item::after {content: \"\";width: 100%;border-bottom: 1px solid gray;flex-grow: 1;}#sk-container-id-1 div.sk-label:hover label.sk-toggleable__label {background-color: #d4ebff;}#sk-container-id-1 div.sk-serial::before {content: \"\";position: absolute;border-left: 1px solid gray;box-sizing: border-box;top: 0;bottom: 0;left: 50%;z-index: 0;}#sk-container-id-1 div.sk-serial {display: flex;flex-direction: column;align-items: center;background-color: white;padding-right: 0.2em;padding-left: 0.2em;position: relative;}#sk-container-id-1 div.sk-item {position: relative;z-index: 1;}#sk-container-id-1 div.sk-parallel {display: flex;align-items: stretch;justify-content: center;background-color: white;position: relative;}#sk-container-id-1 div.sk-item::before, #sk-container-id-1 div.sk-parallel-item::before {content: \"\";position: absolute;border-left: 1px solid gray;box-sizing: border-box;top: 0;bottom: 0;left: 50%;z-index: -1;}#sk-container-id-1 div.sk-parallel-item {display: flex;flex-direction: column;z-index: 1;position: relative;background-color: white;}#sk-container-id-1 div.sk-parallel-item:first-child::after {align-self: flex-end;width: 50%;}#sk-container-id-1 div.sk-parallel-item:last-child::after {align-self: flex-start;width: 50%;}#sk-container-id-1 div.sk-parallel-item:only-child::after {width: 0;}#sk-container-id-1 div.sk-dashed-wrapped {border: 1px dashed gray;margin: 0 0.4em 0.5em 0.4em;box-sizing: border-box;padding-bottom: 0.4em;background-color: white;}#sk-container-id-1 div.sk-label label {font-family: monospace;font-weight: bold;display: inline-block;line-height: 1.2em;}#sk-container-id-1 div.sk-label-container {text-align: center;}#sk-container-id-1 div.sk-container {/* jupyter's `normalize.less` sets `[hidden] { display: none; }` but bootstrap.min.css set `[hidden] { display: none !important; }` so we also need the `!important` here to be able to override the default hidden behavior on the sphinx rendered scikit-learn.org. See: https://github.com/scikit-learn/scikit-learn/issues/21755 */display: inline-block !important;position: relative;}#sk-container-id-1 div.sk-text-repr-fallback {display: none;}</style><div id=\"sk-container-id-1\" class=\"sk-top-container\"><div class=\"sk-text-repr-fallback\"><pre>GridSearchCV(cv=5, estimator=LogisticRegression(), n_jobs=-1,\n",
       "             param_grid={&#x27;C&#x27;: [0.1, 1, 10], &#x27;max_iter&#x27;: [200],\n",
       "                         &#x27;multi_class&#x27;: [&#x27;multinomial&#x27;], &#x27;solver&#x27;: [&#x27;lbfgs&#x27;]},\n",
       "             scoring=&#x27;accuracy&#x27;, verbose=1)</pre><b>In a Jupyter environment, please rerun this cell to show the HTML representation or trust the notebook. <br />On GitHub, the HTML representation is unable to render, please try loading this page with nbviewer.org.</b></div><div class=\"sk-container\" hidden><div class=\"sk-item sk-dashed-wrapped\"><div class=\"sk-label-container\"><div class=\"sk-label sk-toggleable\"><input class=\"sk-toggleable__control sk-hidden--visually\" id=\"sk-estimator-id-1\" type=\"checkbox\" ><label for=\"sk-estimator-id-1\" class=\"sk-toggleable__label sk-toggleable__label-arrow\">GridSearchCV</label><div class=\"sk-toggleable__content\"><pre>GridSearchCV(cv=5, estimator=LogisticRegression(), n_jobs=-1,\n",
       "             param_grid={&#x27;C&#x27;: [0.1, 1, 10], &#x27;max_iter&#x27;: [200],\n",
       "                         &#x27;multi_class&#x27;: [&#x27;multinomial&#x27;], &#x27;solver&#x27;: [&#x27;lbfgs&#x27;]},\n",
       "             scoring=&#x27;accuracy&#x27;, verbose=1)</pre></div></div></div><div class=\"sk-parallel\"><div class=\"sk-parallel-item\"><div class=\"sk-item\"><div class=\"sk-label-container\"><div class=\"sk-label sk-toggleable\"><input class=\"sk-toggleable__control sk-hidden--visually\" id=\"sk-estimator-id-2\" type=\"checkbox\" ><label for=\"sk-estimator-id-2\" class=\"sk-toggleable__label sk-toggleable__label-arrow\">estimator: LogisticRegression</label><div class=\"sk-toggleable__content\"><pre>LogisticRegression()</pre></div></div></div><div class=\"sk-serial\"><div class=\"sk-item\"><div class=\"sk-estimator sk-toggleable\"><input class=\"sk-toggleable__control sk-hidden--visually\" id=\"sk-estimator-id-3\" type=\"checkbox\" ><label for=\"sk-estimator-id-3\" class=\"sk-toggleable__label sk-toggleable__label-arrow\">LogisticRegression</label><div class=\"sk-toggleable__content\"><pre>LogisticRegression()</pre></div></div></div></div></div></div></div></div></div></div>"
      ],
      "text/plain": [
       "GridSearchCV(cv=5, estimator=LogisticRegression(), n_jobs=-1,\n",
       "             param_grid={'C': [0.1, 1, 10], 'max_iter': [200],\n",
       "                         'multi_class': ['multinomial'], 'solver': ['lbfgs']},\n",
       "             scoring='accuracy', verbose=1)"
      ]
     },
     "execution_count": 12,
     "metadata": {},
     "output_type": "execute_result"
    }
   ],
   "source": [
    "logistic_model = LogisticRegression()\n",
    "grid_search = GridSearchCV(logistic_model, param_grid, cv=5, scoring='accuracy', verbose=1, n_jobs=-1)\n",
    "grid_search.fit(X_train, y_train.idxmax(axis=1))"
   ]
  },
  {
   "cell_type": "code",
   "execution_count": 13,
   "metadata": {},
   "outputs": [
    {
     "name": "stdout",
     "output_type": "stream",
     "text": [
      "Best Parameters for Logistic Regression: {'C': 0.1, 'max_iter': 200, 'multi_class': 'multinomial', 'solver': 'lbfgs'}\n"
     ]
    }
   ],
   "source": [
    "print(\"Best Parameters for Logistic Regression:\", grid_search.best_params_)\n",
    "best_logistic_model = grid_search.best_estimator_"
   ]
  },
  {
   "cell_type": "code",
   "execution_count": 14,
   "metadata": {},
   "outputs": [
    {
     "name": "stdout",
     "output_type": "stream",
     "text": [
      "Evaluating Logistic Regression...\n",
      "Evaluating Naive Bayes...\n",
      "Evaluating Linear Regression...\n"
     ]
    }
   ],
   "source": [
    "for model_name, model in models.items():\n",
    "    print(f\"Evaluating {model_name}...\")\n",
    "    if model_name == \"Logistic Regression\":\n",
    "        current_model = best_logistic_model\n",
    "    else:\n",
    "        current_model = model"
   ]
  },
  {
   "cell_type": "code",
   "execution_count": 19,
   "metadata": {},
   "outputs": [
    {
     "name": "stdout",
     "output_type": "stream",
     "text": [
      "Mean Squared Error: 6.1759\n",
      "R-squared: 0.2434\n",
      "--------------------------------------------------\n"
     ]
    }
   ],
   "source": [
    "    evaluate_model(current_model, X_train, y_train, X_test, y_test)\n"
   ]
  },
  {
   "cell_type": "code",
   "execution_count": 20,
   "metadata": {},
   "outputs": [
    {
     "name": "stdout",
     "output_type": "stream",
     "text": [
      "Saved Logistic Regression model to logistic_regression.pkl\n"
     ]
    }
   ],
   "source": [
    "    model_filename = f\"{model_name.replace(' ', '_').lower()}.pkl\"\n",
    "    joblib.dump(current_model, model_filename)\n",
    "    print(f\"Saved {model_name} model to {model_filename}\")"
   ]
  },
  {
   "cell_type": "code",
   "execution_count": 36,
   "metadata": {},
   "outputs": [],
   "source": [
    "def cross_validate_model(model, X, y):\n",
    "    accuracies, precisions, recalls, f1_scores = [], [], [], []\n",
    "    conf_matrices = []\n",
    "    \n",
    "    for train_idx, test_idx in kf.split(X):\n",
    "        X_train_cv, X_test_cv = X.iloc[train_idx], X.iloc[test_idx]\n",
    "        y_train_cv, y_test_cv = y.iloc[train_idx], y.iloc[test_idx]\n",
    "\n",
    "        model.fit(X_train_cv, y_train_cv.idxmax(axis=1))\n",
    "\n",
    "        if isinstance(model, LinearRegression):\n",
    "            # Linear regression outputs continuous values; round to nearest integer\n",
    "            predictions = np.round(model.predict(X_test_cv)).astype(int)\n",
    "        else:\n",
    "            predictions = model.predict(X_test_cv)\n",
    "        predictions = np.clip(predictions, 0, y_train_cv.shape[1] - 1)\n",
    "        accuracies.append(accuracy_score(y_test_cv.idxmax(axis=1), predictions))\n",
    "        precisions.append(precision_score(y_test_cv.idxmax(axis=1), predictions, average='weighted', zero_division=0))\n",
    "        recalls.append(recall_score(y_test_cv.idxmax(axis=1), predictions, average='weighted', zero_division=0))\n",
    "        f1_scores.append(f1_score(y_test_cv.idxmax(axis=1), predictions, average='weighted', zero_division=0))\n",
    "        conf_matrices.append(confusion_matrix(y_test_cv.idxmax(axis=1), predictions))\n",
    "        print(f\"Mean Accuracy: {np.mean(accuracies):.4f}, Std: {np.std(accuracies):.4f}\")\n",
    "        print(f\"Mean Precision: {np.mean(precisions):.4f}, Std: {np.std(precisions):.4f}\")\n",
    "        print(f\"Mean Recall: {np.mean(recalls):.4f}, Std: {np.std(recalls):.4f}\")\n",
    "        print(f\"Mean F1-Score: {np.mean(f1_scores):.4f}, Std: {np.std(f1_scores):.4f}\")\n",
    "        print(\"-\" * 50)"
   ]
  },
  {
   "cell_type": "code",
   "execution_count": 37,
   "metadata": {},
   "outputs": [
    {
     "name": "stdout",
     "output_type": "stream",
     "text": [
      "Cross-validation Results:\n",
      "Cross-validating Logistic Regression...\n"
     ]
    },
    {
     "name": "stderr",
     "output_type": "stream",
     "text": [
      "d:\\Anacoda\\Lib\\site-packages\\sklearn\\linear_model\\_logistic.py:460: ConvergenceWarning: lbfgs failed to converge (status=1):\n",
      "STOP: TOTAL NO. of ITERATIONS REACHED LIMIT.\n",
      "\n",
      "Increase the number of iterations (max_iter) or scale the data as shown in:\n",
      "    https://scikit-learn.org/stable/modules/preprocessing.html\n",
      "Please also refer to the documentation for alternative solver options:\n",
      "    https://scikit-learn.org/stable/modules/linear_model.html#logistic-regression\n",
      "  n_iter_i = _check_optimize_result(\n"
     ]
    },
    {
     "name": "stdout",
     "output_type": "stream",
     "text": [
      "Mean Accuracy: 0.7660, Std: 0.0000\n",
      "Mean Precision: 0.7680, Std: 0.0000\n",
      "Mean Recall: 0.7660, Std: 0.0000\n",
      "Mean F1-Score: 0.7656, Std: 0.0000\n",
      "--------------------------------------------------\n"
     ]
    },
    {
     "name": "stderr",
     "output_type": "stream",
     "text": [
      "d:\\Anacoda\\Lib\\site-packages\\sklearn\\linear_model\\_logistic.py:460: ConvergenceWarning: lbfgs failed to converge (status=1):\n",
      "STOP: TOTAL NO. of ITERATIONS REACHED LIMIT.\n",
      "\n",
      "Increase the number of iterations (max_iter) or scale the data as shown in:\n",
      "    https://scikit-learn.org/stable/modules/preprocessing.html\n",
      "Please also refer to the documentation for alternative solver options:\n",
      "    https://scikit-learn.org/stable/modules/linear_model.html#logistic-regression\n",
      "  n_iter_i = _check_optimize_result(\n"
     ]
    },
    {
     "name": "stdout",
     "output_type": "stream",
     "text": [
      "Mean Accuracy: 0.7595, Std: 0.0065\n",
      "Mean Precision: 0.7614, Std: 0.0066\n",
      "Mean Recall: 0.7595, Std: 0.0065\n",
      "Mean F1-Score: 0.7591, Std: 0.0065\n",
      "--------------------------------------------------\n"
     ]
    },
    {
     "name": "stderr",
     "output_type": "stream",
     "text": [
      "d:\\Anacoda\\Lib\\site-packages\\sklearn\\linear_model\\_logistic.py:460: ConvergenceWarning: lbfgs failed to converge (status=1):\n",
      "STOP: TOTAL NO. of ITERATIONS REACHED LIMIT.\n",
      "\n",
      "Increase the number of iterations (max_iter) or scale the data as shown in:\n",
      "    https://scikit-learn.org/stable/modules/preprocessing.html\n",
      "Please also refer to the documentation for alternative solver options:\n",
      "    https://scikit-learn.org/stable/modules/linear_model.html#logistic-regression\n",
      "  n_iter_i = _check_optimize_result(\n"
     ]
    },
    {
     "name": "stdout",
     "output_type": "stream",
     "text": [
      "Mean Accuracy: 0.7583, Std: 0.0056\n",
      "Mean Precision: 0.7604, Std: 0.0055\n",
      "Mean Recall: 0.7583, Std: 0.0056\n",
      "Mean F1-Score: 0.7581, Std: 0.0055\n",
      "--------------------------------------------------\n"
     ]
    },
    {
     "name": "stderr",
     "output_type": "stream",
     "text": [
      "d:\\Anacoda\\Lib\\site-packages\\sklearn\\linear_model\\_logistic.py:460: ConvergenceWarning: lbfgs failed to converge (status=1):\n",
      "STOP: TOTAL NO. of ITERATIONS REACHED LIMIT.\n",
      "\n",
      "Increase the number of iterations (max_iter) or scale the data as shown in:\n",
      "    https://scikit-learn.org/stable/modules/preprocessing.html\n",
      "Please also refer to the documentation for alternative solver options:\n",
      "    https://scikit-learn.org/stable/modules/linear_model.html#logistic-regression\n",
      "  n_iter_i = _check_optimize_result(\n"
     ]
    },
    {
     "name": "stdout",
     "output_type": "stream",
     "text": [
      "Mean Accuracy: 0.7598, Std: 0.0054\n",
      "Mean Precision: 0.7616, Std: 0.0053\n",
      "Mean Recall: 0.7598, Std: 0.0054\n",
      "Mean F1-Score: 0.7595, Std: 0.0054\n",
      "--------------------------------------------------\n"
     ]
    },
    {
     "name": "stderr",
     "output_type": "stream",
     "text": [
      "d:\\Anacoda\\Lib\\site-packages\\sklearn\\linear_model\\_logistic.py:460: ConvergenceWarning: lbfgs failed to converge (status=1):\n",
      "STOP: TOTAL NO. of ITERATIONS REACHED LIMIT.\n",
      "\n",
      "Increase the number of iterations (max_iter) or scale the data as shown in:\n",
      "    https://scikit-learn.org/stable/modules/preprocessing.html\n",
      "Please also refer to the documentation for alternative solver options:\n",
      "    https://scikit-learn.org/stable/modules/linear_model.html#logistic-regression\n",
      "  n_iter_i = _check_optimize_result(\n"
     ]
    },
    {
     "name": "stdout",
     "output_type": "stream",
     "text": [
      "Mean Accuracy: 0.7613, Std: 0.0057\n",
      "Mean Precision: 0.7626, Std: 0.0051\n",
      "Mean Recall: 0.7613, Std: 0.0057\n",
      "Mean F1-Score: 0.7609, Std: 0.0056\n",
      "--------------------------------------------------\n",
      "Cross-validating Naive Bayes...\n",
      "Mean Accuracy: 0.4995, Std: 0.0000\n",
      "Mean Precision: 0.5312, Std: 0.0000\n",
      "Mean Recall: 0.4995, Std: 0.0000\n",
      "Mean F1-Score: 0.5028, Std: 0.0000\n",
      "--------------------------------------------------\n",
      "Mean Accuracy: 0.5045, Std: 0.0050\n",
      "Mean Precision: 0.5322, Std: 0.0011\n",
      "Mean Recall: 0.5045, Std: 0.0050\n",
      "Mean F1-Score: 0.5058, Std: 0.0030\n",
      "--------------------------------------------------\n",
      "Mean Accuracy: 0.5037, Std: 0.0042\n",
      "Mean Precision: 0.5387, Std: 0.0092\n",
      "Mean Recall: 0.5037, Std: 0.0042\n",
      "Mean F1-Score: 0.5066, Std: 0.0027\n",
      "--------------------------------------------------\n",
      "Mean Accuracy: 0.5095, Std: 0.0108\n",
      "Mean Precision: 0.5436, Std: 0.0117\n",
      "Mean Recall: 0.5095, Std: 0.0108\n",
      "Mean F1-Score: 0.5124, Std: 0.0103\n",
      "--------------------------------------------------\n",
      "Mean Accuracy: 0.5085, Std: 0.0098\n",
      "Mean Precision: 0.5434, Std: 0.0104\n",
      "Mean Recall: 0.5085, Std: 0.0098\n",
      "Mean F1-Score: 0.5113, Std: 0.0095\n",
      "--------------------------------------------------\n",
      "Cross-validating Linear Regression...\n",
      "Mean Accuracy: 0.1380, Std: 0.0000\n",
      "Mean Precision: 0.2094, Std: 0.0000\n",
      "Mean Recall: 0.1380, Std: 0.0000\n",
      "Mean F1-Score: 0.1277, Std: 0.0000\n",
      "--------------------------------------------------\n",
      "Mean Accuracy: 0.1390, Std: 0.0010\n",
      "Mean Precision: 0.1970, Std: 0.0124\n",
      "Mean Recall: 0.1390, Std: 0.0010\n",
      "Mean F1-Score: 0.1289, Std: 0.0011\n",
      "--------------------------------------------------\n",
      "Mean Accuracy: 0.1382, Std: 0.0014\n",
      "Mean Precision: 0.1916, Std: 0.0127\n",
      "Mean Recall: 0.1382, Std: 0.0014\n",
      "Mean F1-Score: 0.1262, Std: 0.0038\n",
      "--------------------------------------------------\n",
      "Mean Accuracy: 0.1345, Std: 0.0065\n",
      "Mean Precision: 0.1866, Std: 0.0140\n",
      "Mean Recall: 0.1345, Std: 0.0065\n",
      "Mean F1-Score: 0.1231, Std: 0.0064\n",
      "--------------------------------------------------\n",
      "Mean Accuracy: 0.1358, Std: 0.0063\n",
      "Mean Precision: 0.1911, Std: 0.0154\n",
      "Mean Recall: 0.1358, Std: 0.0063\n",
      "Mean F1-Score: 0.1253, Std: 0.0073\n",
      "--------------------------------------------------\n"
     ]
    }
   ],
   "source": [
    "print(\"Cross-validation Results:\")\n",
    "for model_name, model in models.items():\n",
    "    print(f\"Cross-validating {model_name}...\")\n",
    "    cross_validate_model(model, X, y)"
   ]
  },
  {
   "cell_type": "code",
   "execution_count": null,
   "metadata": {},
   "outputs": [],
   "source": []
  }
 ],
 "metadata": {
  "kernelspec": {
   "display_name": "Python (base)",
   "language": "python",
   "name": "base"
  },
  "language_info": {
   "codemirror_mode": {
    "name": "ipython",
    "version": 3
   },
   "file_extension": ".py",
   "mimetype": "text/x-python",
   "name": "python",
   "nbconvert_exporter": "python",
   "pygments_lexer": "ipython3",
   "version": "3.11.5"
  }
 },
 "nbformat": 4,
 "nbformat_minor": 2
}
