{
 "cells": [
  {
   "cell_type": "code",
   "execution_count": 1,
   "metadata": {},
   "outputs": [],
   "source": [
    "import os\n",
    "import numpy as np\n",
    "import pandas as pd\n",
    "from PIL import Image\n",
    "from sklearn.model_selection import train_test_split, KFold, GridSearchCV\n",
    "from sklearn.metrics import (\n",
    "    accuracy_score, precision_score, recall_score, f1_score, \n",
    "    confusion_matrix, mean_squared_error, r2_score\n",
    ")\n",
    "from sklearn.linear_model import LogisticRegression, LinearRegression\n",
    "from sklearn.naive_bayes import GaussianNB"
   ]
  },
  {
   "cell_type": "code",
   "execution_count": 17,
   "metadata": {},
   "outputs": [],
   "source": [
    "DEBUG = True\n"
   ]
  },
  {
   "cell_type": "code",
   "execution_count": 18,
   "metadata": {},
   "outputs": [],
   "source": [
    "IMG_DIR = r'D:\\Fourth Year\\First Term\\Machine\\Lectures\\project\\10000'\n",
    "img_paths = []\n",
    "img_labels = []\n",
    "processed_data = []"
   ]
  },
  {
   "cell_type": "code",
   "execution_count": 35,
   "metadata": {},
   "outputs": [
    {
     "name": "stdout",
     "output_type": "stream",
     "text": [
      "Checking directory structure...\n"
     ]
    }
   ],
   "source": [
    "print(\"Checking directory structure...\")\n",
    "if not os.path.exists(IMG_DIR):\n",
    "    raise ValueError(f\"Directory {IMG_DIR} does not exist!\")"
   ]
  },
  {
   "cell_type": "code",
   "execution_count": 36,
   "metadata": {},
   "outputs": [
    {
     "name": "stdout",
     "output_type": "stream",
     "text": [
      "Found 10 class folders: ['0', '1', '2', '3', '4', '5', '6', '7', '8', '9']\n"
     ]
    }
   ],
   "source": [
    "class_folders = [f for f in os.listdir(IMG_DIR) if os.path.isdir(os.path.join(IMG_DIR, f))]\n",
    "if not class_folders:\n",
    "    raise ValueError(f\"No subdirectories found in {IMG_DIR}\")\n",
    "\n",
    "print(f\"Found {len(class_folders)} class folders: {class_folders}\")"
   ]
  },
  {
   "cell_type": "code",
   "execution_count": 37,
   "metadata": {},
   "outputs": [
    {
     "name": "stdout",
     "output_type": "stream",
     "text": [
      "\n",
      "Processing class 0 (label 0)\n",
      "Found 1000 images in 0\n",
      "\n",
      "Processing class 1 (label 1)\n",
      "Found 1000 images in 1\n",
      "\n",
      "Processing class 2 (label 2)\n",
      "Found 1000 images in 2\n",
      "\n",
      "Processing class 3 (label 3)\n",
      "Found 1000 images in 3\n",
      "\n",
      "Processing class 4 (label 4)\n",
      "Found 1000 images in 4\n",
      "\n",
      "Processing class 5 (label 5)\n",
      "Found 1000 images in 5\n",
      "\n",
      "Processing class 6 (label 6)\n",
      "Found 1000 images in 6\n",
      "\n",
      "Processing class 7 (label 7)\n",
      "Found 1000 images in 7\n",
      "\n",
      "Processing class 8 (label 8)\n",
      "Found 1000 images in 8\n",
      "\n",
      "Processing class 9 (label 9)\n",
      "Found 1000 images in 9\n"
     ]
    }
   ],
   "source": [
    "for label_idx, folder in enumerate(class_folders):\n",
    "    folder_path = os.path.join(IMG_DIR, folder)\n",
    "    files = [f for f in os.listdir(folder_path) if f.lower().endswith(('.png', '.jpg', '.jpeg'))]\n",
    "    \n",
    "    print(f\"\\nProcessing class {folder} (label {label_idx})\")\n",
    "    print(f\"Found {len(files)} images in {folder}\")\n",
    "    \n",
    "    for img_file in files:\n",
    "        try:\n",
    "            full_path = os.path.join(folder_path, img_file)\n",
    "            \n",
    "            # Process image\n",
    "            with Image.open(full_path) as img:\n",
    "                gray_img = img.convert('L')\n",
    "                small_img = gray_img.resize((28, 28))\n",
    "                flat_img = np.array(small_img).flatten() / 255.0\n",
    "                \n",
    "                processed_data.append(flat_img)\n",
    "                img_paths.append(full_path)\n",
    "                img_labels.append(label_idx)\n",
    "                \n",
    "        except Exception as e:\n",
    "            print(f\"Error processing {img_file}: {str(e)}\")\n",
    "            continue"
   ]
  },
  {
   "cell_type": "code",
   "execution_count": 38,
   "metadata": {},
   "outputs": [
    {
     "name": "stdout",
     "output_type": "stream",
     "text": [
      "Successfully processed 1000 images for class 9\n"
     ]
    }
   ],
   "source": [
    "    class_count = sum(1 for label in img_labels if label == label_idx)\n",
    "    print(f\"Successfully processed {class_count} images for class {label_idx}\")"
   ]
  },
  {
   "cell_type": "code",
   "execution_count": 39,
   "metadata": {},
   "outputs": [],
   "source": [
    "X = np.array(processed_data)\n",
    "y = np.array(img_labels)"
   ]
  },
  {
   "cell_type": "code",
   "execution_count": 40,
   "metadata": {},
   "outputs": [
    {
     "name": "stdout",
     "output_type": "stream",
     "text": [
      "\n",
      "Data Overview:\n",
      "Total samples: 11000\n",
      "Feature dimension: 784\n",
      "\n",
      "Class distribution:\n",
      "Class 0: 1000 samples\n",
      "Class 1: 2000 samples\n",
      "Class 2: 1000 samples\n",
      "Class 3: 1000 samples\n",
      "Class 4: 1000 samples\n",
      "Class 5: 1000 samples\n",
      "Class 6: 1000 samples\n",
      "Class 7: 1000 samples\n",
      "Class 8: 1000 samples\n",
      "Class 9: 1000 samples\n"
     ]
    }
   ],
   "source": [
    "print(\"\\nData Overview:\")\n",
    "print(f\"Total samples: {len(X)}\")\n",
    "print(f\"Feature dimension: {X.shape[1]}\")\n",
    "print(\"\\nClass distribution:\")\n",
    "unique_classes, class_counts = np.unique(y, return_counts=True)\n",
    "for cls, count in zip(unique_classes, class_counts):\n",
    "    print(f\"Class {cls}: {count} samples\")\n",
    "\n",
    "if len(unique_classes) < 2:\n",
    "    raise ValueError(f\"Found only {len(unique_classes)} classes. Need at least 2 classes for classification!\")"
   ]
  },
  {
   "cell_type": "code",
   "execution_count": 41,
   "metadata": {},
   "outputs": [],
   "source": [
    "image_df = pd.DataFrame(X)\n",
    "image_df['target'] = y"
   ]
  },
  {
   "cell_type": "code",
   "execution_count": 42,
   "metadata": {},
   "outputs": [],
   "source": [
    "features = image_df.drop(columns=['target'])\n",
    "labels = image_df['target']"
   ]
  },
  {
   "cell_type": "code",
   "execution_count": 43,
   "metadata": {},
   "outputs": [
    {
     "name": "stdout",
     "output_type": "stream",
     "text": [
      "\n",
      "Verifying class distribution in labels:\n",
      "target\n",
      "1    2000\n",
      "0    1000\n",
      "2    1000\n",
      "3    1000\n",
      "4    1000\n",
      "5    1000\n",
      "6    1000\n",
      "7    1000\n",
      "8    1000\n",
      "9    1000\n",
      "Name: count, dtype: int64\n"
     ]
    }
   ],
   "source": [
    "print(\"\\nVerifying class distribution in labels:\")\n",
    "print(labels.value_counts())"
   ]
  },
  {
   "cell_type": "code",
   "execution_count": 44,
   "metadata": {},
   "outputs": [],
   "source": [
    "X_train, X_test, y_train, y_test = train_test_split(\n",
    "    features, labels, test_size=0.2, random_state=42, stratify=labels\n",
    ")"
   ]
  },
  {
   "cell_type": "code",
   "execution_count": 45,
   "metadata": {},
   "outputs": [
    {
     "name": "stdout",
     "output_type": "stream",
     "text": [
      "\n",
      "Classes in training data: [0 1 2 3 4 5 6 7 8 9]\n"
     ]
    }
   ],
   "source": [
    "train_classes = np.unique(y_train)\n",
    "print(\"\\nClasses in training data:\", train_classes)\n",
    "if len(train_classes) < 2:\n",
    "    raise ValueError(\"Training data must have at least 2 classes!\")"
   ]
  },
  {
   "cell_type": "code",
   "execution_count": 46,
   "metadata": {},
   "outputs": [],
   "source": [
    "def check_model_performance(model, train_X, train_y, test_X, test_y, model_name=\"\"):\n",
    "    print(f\"\\nTraining {model_name}...\")\n",
    "    model.fit(train_X, train_y)\n",
    "    preds = model.predict(test_X)\n",
    "    \n",
    "    if isinstance(model, LinearRegression):\n",
    "        mse = mean_squared_error(test_y, preds)\n",
    "        r2 = r2_score(test_y, preds)\n",
    "        print(f\"MSE: {mse:.4f}\")\n",
    "        print(f\"R² Score: {r2:.4f}\")\n",
    "    else:\n",
    "        acc = accuracy_score(test_y, preds)\n",
    "        prec = precision_score(test_y, preds, average='weighted', zero_division=0)\n",
    "        rec = recall_score(test_y, preds, average='weighted', zero_division=0)\n",
    "        f1 = f1_score(test_y, preds, average='weighted', zero_division=0)\n",
    "        conf_mat = confusion_matrix(test_y, preds)\n",
    "        \n",
    "        print(f\"Accuracy: {acc:.4f}\")\n",
    "        print(f\"Precision: {prec:.4f}\")\n",
    "        print(f\"Recall: {rec:.4f}\")\n",
    "        print(f\"F1: {f1:.4f}\")\n",
    "        print(\"\\nConfusion Matrix:\")\n",
    "        print(conf_mat)\n",
    "    \n",
    "    print(\"-\" * 40)"
   ]
  },
  {
   "cell_type": "code",
   "execution_count": 47,
   "metadata": {},
   "outputs": [
    {
     "name": "stdout",
     "output_type": "stream",
     "text": [
      "\n",
      "Initializing models...\n"
     ]
    }
   ],
   "source": [
    "print(\"\\nInitializing models...\")\n",
    "model_zoo = {\n",
    "    \"Logistic Regression\": LogisticRegression(max_iter=500, solver='lbfgs', multi_class='multinomial'),\n",
    "    \"Gaussian NB\": GaussianNB(),\n",
    "    \"Linear Regression\": LinearRegression()\n",
    "}\n"
   ]
  },
  {
   "cell_type": "code",
   "execution_count": 48,
   "metadata": {},
   "outputs": [
    {
     "name": "stdout",
     "output_type": "stream",
     "text": [
      "\n",
      "Tuning Logistic Regression hyperparameters...\n"
     ]
    }
   ],
   "source": [
    "print(\"\\nTuning Logistic Regression hyperparameters...\")\n",
    "param_grid = {\n",
    "    'C': [0.1, 1, 10],\n",
    "    'solver': ['lbfgs'],\n",
    "    'multi_class': ['ovr'],\n",
    "    'max_iter': [100, 200]\n",
    "}"
   ]
  },
  {
   "cell_type": "code",
   "execution_count": 49,
   "metadata": {},
   "outputs": [
    {
     "name": "stdout",
     "output_type": "stream",
     "text": [
      "Fitting 3 folds for each of 6 candidates, totalling 18 fits\n"
     ]
    },
    {
     "data": {
      "text/html": [
       "<style>#sk-container-id-1 {color: black;}#sk-container-id-1 pre{padding: 0;}#sk-container-id-1 div.sk-toggleable {background-color: white;}#sk-container-id-1 label.sk-toggleable__label {cursor: pointer;display: block;width: 100%;margin-bottom: 0;padding: 0.3em;box-sizing: border-box;text-align: center;}#sk-container-id-1 label.sk-toggleable__label-arrow:before {content: \"▸\";float: left;margin-right: 0.25em;color: #696969;}#sk-container-id-1 label.sk-toggleable__label-arrow:hover:before {color: black;}#sk-container-id-1 div.sk-estimator:hover label.sk-toggleable__label-arrow:before {color: black;}#sk-container-id-1 div.sk-toggleable__content {max-height: 0;max-width: 0;overflow: hidden;text-align: left;background-color: #f0f8ff;}#sk-container-id-1 div.sk-toggleable__content pre {margin: 0.2em;color: black;border-radius: 0.25em;background-color: #f0f8ff;}#sk-container-id-1 input.sk-toggleable__control:checked~div.sk-toggleable__content {max-height: 200px;max-width: 100%;overflow: auto;}#sk-container-id-1 input.sk-toggleable__control:checked~label.sk-toggleable__label-arrow:before {content: \"▾\";}#sk-container-id-1 div.sk-estimator input.sk-toggleable__control:checked~label.sk-toggleable__label {background-color: #d4ebff;}#sk-container-id-1 div.sk-label input.sk-toggleable__control:checked~label.sk-toggleable__label {background-color: #d4ebff;}#sk-container-id-1 input.sk-hidden--visually {border: 0;clip: rect(1px 1px 1px 1px);clip: rect(1px, 1px, 1px, 1px);height: 1px;margin: -1px;overflow: hidden;padding: 0;position: absolute;width: 1px;}#sk-container-id-1 div.sk-estimator {font-family: monospace;background-color: #f0f8ff;border: 1px dotted black;border-radius: 0.25em;box-sizing: border-box;margin-bottom: 0.5em;}#sk-container-id-1 div.sk-estimator:hover {background-color: #d4ebff;}#sk-container-id-1 div.sk-parallel-item::after {content: \"\";width: 100%;border-bottom: 1px solid gray;flex-grow: 1;}#sk-container-id-1 div.sk-label:hover label.sk-toggleable__label {background-color: #d4ebff;}#sk-container-id-1 div.sk-serial::before {content: \"\";position: absolute;border-left: 1px solid gray;box-sizing: border-box;top: 0;bottom: 0;left: 50%;z-index: 0;}#sk-container-id-1 div.sk-serial {display: flex;flex-direction: column;align-items: center;background-color: white;padding-right: 0.2em;padding-left: 0.2em;position: relative;}#sk-container-id-1 div.sk-item {position: relative;z-index: 1;}#sk-container-id-1 div.sk-parallel {display: flex;align-items: stretch;justify-content: center;background-color: white;position: relative;}#sk-container-id-1 div.sk-item::before, #sk-container-id-1 div.sk-parallel-item::before {content: \"\";position: absolute;border-left: 1px solid gray;box-sizing: border-box;top: 0;bottom: 0;left: 50%;z-index: -1;}#sk-container-id-1 div.sk-parallel-item {display: flex;flex-direction: column;z-index: 1;position: relative;background-color: white;}#sk-container-id-1 div.sk-parallel-item:first-child::after {align-self: flex-end;width: 50%;}#sk-container-id-1 div.sk-parallel-item:last-child::after {align-self: flex-start;width: 50%;}#sk-container-id-1 div.sk-parallel-item:only-child::after {width: 0;}#sk-container-id-1 div.sk-dashed-wrapped {border: 1px dashed gray;margin: 0 0.4em 0.5em 0.4em;box-sizing: border-box;padding-bottom: 0.4em;background-color: white;}#sk-container-id-1 div.sk-label label {font-family: monospace;font-weight: bold;display: inline-block;line-height: 1.2em;}#sk-container-id-1 div.sk-label-container {text-align: center;}#sk-container-id-1 div.sk-container {/* jupyter's `normalize.less` sets `[hidden] { display: none; }` but bootstrap.min.css set `[hidden] { display: none !important; }` so we also need the `!important` here to be able to override the default hidden behavior on the sphinx rendered scikit-learn.org. See: https://github.com/scikit-learn/scikit-learn/issues/21755 */display: inline-block !important;position: relative;}#sk-container-id-1 div.sk-text-repr-fallback {display: none;}</style><div id=\"sk-container-id-1\" class=\"sk-top-container\"><div class=\"sk-text-repr-fallback\"><pre>GridSearchCV(cv=3, estimator=LogisticRegression(), n_jobs=-1,\n",
       "             param_grid={&#x27;C&#x27;: [0.1, 1, 10], &#x27;max_iter&#x27;: [100, 200],\n",
       "                         &#x27;multi_class&#x27;: [&#x27;ovr&#x27;], &#x27;solver&#x27;: [&#x27;lbfgs&#x27;]},\n",
       "             scoring=&#x27;accuracy&#x27;, verbose=1)</pre><b>In a Jupyter environment, please rerun this cell to show the HTML representation or trust the notebook. <br />On GitHub, the HTML representation is unable to render, please try loading this page with nbviewer.org.</b></div><div class=\"sk-container\" hidden><div class=\"sk-item sk-dashed-wrapped\"><div class=\"sk-label-container\"><div class=\"sk-label sk-toggleable\"><input class=\"sk-toggleable__control sk-hidden--visually\" id=\"sk-estimator-id-1\" type=\"checkbox\" ><label for=\"sk-estimator-id-1\" class=\"sk-toggleable__label sk-toggleable__label-arrow\">GridSearchCV</label><div class=\"sk-toggleable__content\"><pre>GridSearchCV(cv=3, estimator=LogisticRegression(), n_jobs=-1,\n",
       "             param_grid={&#x27;C&#x27;: [0.1, 1, 10], &#x27;max_iter&#x27;: [100, 200],\n",
       "                         &#x27;multi_class&#x27;: [&#x27;ovr&#x27;], &#x27;solver&#x27;: [&#x27;lbfgs&#x27;]},\n",
       "             scoring=&#x27;accuracy&#x27;, verbose=1)</pre></div></div></div><div class=\"sk-parallel\"><div class=\"sk-parallel-item\"><div class=\"sk-item\"><div class=\"sk-label-container\"><div class=\"sk-label sk-toggleable\"><input class=\"sk-toggleable__control sk-hidden--visually\" id=\"sk-estimator-id-2\" type=\"checkbox\" ><label for=\"sk-estimator-id-2\" class=\"sk-toggleable__label sk-toggleable__label-arrow\">estimator: LogisticRegression</label><div class=\"sk-toggleable__content\"><pre>LogisticRegression()</pre></div></div></div><div class=\"sk-serial\"><div class=\"sk-item\"><div class=\"sk-estimator sk-toggleable\"><input class=\"sk-toggleable__control sk-hidden--visually\" id=\"sk-estimator-id-3\" type=\"checkbox\" ><label for=\"sk-estimator-id-3\" class=\"sk-toggleable__label sk-toggleable__label-arrow\">LogisticRegression</label><div class=\"sk-toggleable__content\"><pre>LogisticRegression()</pre></div></div></div></div></div></div></div></div></div></div>"
      ],
      "text/plain": [
       "GridSearchCV(cv=3, estimator=LogisticRegression(), n_jobs=-1,\n",
       "             param_grid={'C': [0.1, 1, 10], 'max_iter': [100, 200],\n",
       "                         'multi_class': ['ovr'], 'solver': ['lbfgs']},\n",
       "             scoring='accuracy', verbose=1)"
      ]
     },
     "execution_count": 49,
     "metadata": {},
     "output_type": "execute_result"
    }
   ],
   "source": [
    "log_reg = LogisticRegression()\n",
    "grid = GridSearchCV(log_reg, param_grid, cv=3, scoring='accuracy', verbose=1, n_jobs=-1)\n",
    "grid.fit(X_train, y_train)"
   ]
  },
  {
   "cell_type": "code",
   "execution_count": 50,
   "metadata": {},
   "outputs": [
    {
     "name": "stdout",
     "output_type": "stream",
     "text": [
      "\n",
      "Best LogReg params found: {'C': 0.1, 'max_iter': 200, 'multi_class': 'ovr', 'solver': 'lbfgs'}\n"
     ]
    }
   ],
   "source": [
    "print(f\"\\nBest LogReg params found: {grid.best_params_}\")\n",
    "best_log_reg = grid.best_estimator_"
   ]
  },
  {
   "cell_type": "code",
   "execution_count": 51,
   "metadata": {},
   "outputs": [
    {
     "name": "stdout",
     "output_type": "stream",
     "text": [
      "\n",
      "Testing all models...\n",
      "\n",
      "Training Tuned Logistic Regression...\n",
      "Accuracy: 0.6618\n",
      "Precision: 0.6706\n",
      "Recall: 0.6618\n",
      "F1: 0.6612\n",
      "\n",
      "Confusion Matrix:\n",
      "[[159  17   1   3   7   3   6   0   2   2]\n",
      " [  6 269   4   8  11   6   0  17   6  73]\n",
      " [  0  21 153   9   2   4   2   4   3   2]\n",
      " [  3  15   6 149   4   2   2   7   8   4]\n",
      " [  1  35   4   1 141   3   4   4   7   0]\n",
      " [  8   9   3   7   8 125  17   6  14   3]\n",
      " [  3   2   5   1   4  12 171   0   2   0]\n",
      " [  3  54   5   4   4   2   1 117   6   4]\n",
      " [  2  33   3   5   9  17  15   4 111   1]\n",
      " [  7  99   5   7   9   3   0   7   2  61]]\n",
      "----------------------------------------\n",
      "\n",
      "Training Gaussian NB...\n",
      "Accuracy: 0.4382\n",
      "Precision: 0.4516\n",
      "Recall: 0.4382\n",
      "F1: 0.4401\n",
      "\n",
      "Confusion Matrix:\n",
      "[[115  22   7   9  13  13  12   1   3   5]\n",
      " [ 12 134  41  42   9   4   7  57  11  83]\n",
      " [  6  27  85  50   3   0   0   7  19   3]\n",
      " [ 12  26  18 109   8   3   1   8   8   7]\n",
      " [  8  43  15  12  71   4   3   8  27   9]\n",
      " [ 11  28  18   5   7  76  15  10  27   3]\n",
      " [ 10  16  13   7   3  20 114   2  15   0]\n",
      " [  6  28   5  18  11   2   0  93  13  24]\n",
      " [  6  36  18  20  15  16   7   6  75   1]\n",
      " [  9  35   7  21   7   3   0  15  11  92]]\n",
      "----------------------------------------\n",
      "\n",
      "Training Linear Regression...\n",
      "MSE: 7.8725\n",
      "R² Score: 0.0752\n",
      "----------------------------------------\n"
     ]
    }
   ],
   "source": [
    "print(\"\\nTesting all models...\")\n",
    "for name, model in model_zoo.items():\n",
    "    if name == \"Logistic Regression\":\n",
    "        check_model_performance(best_log_reg, X_train, y_train, X_test, y_test, \"Tuned \" + name)\n",
    "    else:\n",
    "        check_model_performance(model, X_train, y_train, X_test, y_test, name)"
   ]
  },
  {
   "cell_type": "code",
   "execution_count": null,
   "metadata": {},
   "outputs": [],
   "source": []
  }
 ],
 "metadata": {
  "kernelspec": {
   "display_name": "Python (base)",
   "language": "python",
   "name": "base"
  },
  "language_info": {
   "codemirror_mode": {
    "name": "ipython",
    "version": 3
   },
   "file_extension": ".py",
   "mimetype": "text/x-python",
   "name": "python",
   "nbconvert_exporter": "python",
   "pygments_lexer": "ipython3",
   "version": "3.11.5"
  }
 },
 "nbformat": 4,
 "nbformat_minor": 2
}
